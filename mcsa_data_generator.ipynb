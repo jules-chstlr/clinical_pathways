{
 "cells": [
  {
   "cell_type": "markdown",
   "metadata": {},
   "source": [
    "## MCSA data generator - Generate data for MultiChannel Sequence Analysis\n"
   ]
  },
  {
   "cell_type": "markdown",
   "metadata": {},
   "source": [
    "MCSA requires :\n",
    "    - a number of individuals (patients)\n",
    "    - a number of sequences (healthcare consumptions)\n",
    "    - an alphabet (set of states for each sequence)\n",
    "    - a temporal unit (depends mostly on study period and on domain knowledge)\n",
    "    \n",
    "Source : https://www.researchgate.net/publication/337632405_Parcours_de_soins_des_patients_atteints_de_sclerose_en_plaques_a_partir_des_donnees_medico-administratives_en_France\n"
   ]
  },
  {
   "cell_type": "code",
   "execution_count": 1,
   "metadata": {},
   "outputs": [],
   "source": [
    "def generate_mcsa_data(n_patients, n_sequences, n_temporal_units):\n",
    "    \"\"\"\n",
    "    Generate MCSA data\n",
    "    -------------------------\n",
    "    Parameters :\n",
    "    \n",
    "    n_patients : number of patients. \n",
    "        The choice of this number will have a great impact on the clustering analysis' run time\n",
    "    n_sequences : number of distinct healthcare consumptions\n",
    "    n_temporal_units : length of the sequences (will be the same for all sequences)\n",
    "    \n",
    "    --------------------------\n",
    "    Output :\n",
    "    a dictionary :\n",
    "        keys : patient number (integers)\n",
    "        values : dictionary (healthcare consumption label as key, associated sequence as value)\n",
    "    \"\"\"\n",
    "    \n",
    "    "
   ]
  },
  {
   "cell_type": "code",
   "execution_count": null,
   "metadata": {},
   "outputs": [],
   "source": []
  }
 ],
 "metadata": {
  "kernelspec": {
   "display_name": "Python 3",
   "language": "python",
   "name": "python3"
  },
  "language_info": {
   "codemirror_mode": {
    "name": "ipython",
    "version": 3
   },
   "file_extension": ".py",
   "mimetype": "text/x-python",
   "name": "python",
   "nbconvert_exporter": "python",
   "pygments_lexer": "ipython3",
   "version": "3.7.3"
  }
 },
 "nbformat": 4,
 "nbformat_minor": 2
}
